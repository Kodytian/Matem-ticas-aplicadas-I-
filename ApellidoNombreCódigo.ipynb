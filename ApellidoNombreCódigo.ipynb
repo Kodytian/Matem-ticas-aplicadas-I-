{
  "nbformat": 4,
  "nbformat_minor": 0,
  "metadata": {
    "colab": {
      "provenance": [],
      "authorship_tag": "ABX9TyOY5UWaUqDW1l8cXUE8LdyN",
      "include_colab_link": true
    },
    "kernelspec": {
      "name": "python3",
      "display_name": "Python 3"
    },
    "language_info": {
      "name": "python"
    }
  },
  "cells": [
    {
      "cell_type": "markdown",
      "metadata": {
        "id": "view-in-github",
        "colab_type": "text"
      },
      "source": [
        "<a href=\"https://colab.research.google.com/github/Kodytian/Matem-ticas-aplicadas-I-/blob/main/ApellidoNombreC%C3%B3digo.ipynb\" target=\"_parent\"><img src=\"https://colab.research.google.com/assets/colab-badge.svg\" alt=\"Open In Colab\"/></a>"
      ]
    },
    {
      "cell_type": "markdown",
      "source": [
        "# <font color=\"Darkblue\">Autobiografía</font>\n",
        "Mi nombre es *Sebástian Márquez Hoyos*, nací en *Cali*, *Valle del Cauca*, *Colombia*, estudie en *la Institución Educativa Escuela Normal Superior Farallones de Cali*, tengo diez y seis años, vivo junto a mi madre y mi mascota llamada Kody. Me gustan los videojuegos y considero que han sido una parte muy esencial en mi desarrollo como persona ya que me han acompañado desde niño.\n",
        "Como pasatiempo me gusta platinar videojuegos, actualmente estoy a punto de platinar *GTA V* juego que te exige demasiado tiempo y nivel.\n",
        "Aparte de los videojuegos me gusta mucho ir al gimnasio y cualquier tipo de actividad que me mantenga activo, y mejor si es en compañía de alguna amistad.\n",
        "Llevo viviendo en la misma casa desde que tengo ocho años, por lo que la idea de mudarme esta siempre en mi cabeza, aunque me aterre. En cuanto a mi vida social, ha mermado considerablemente a diferencia de cuando estaba en el colegio, igual, aún conservo algunos cuantos amigos, aunque mantenga encerrado mucho en casa, no me gustan las fiestas, o bueno, no las que son tan movidas. De pequeño solía hacer muchas manualidades, pero con el pasar del tiempo fui perdiendo la creatividad y me quede estancado, así que ahora solo me dedico a hacer poemas debes en cuando.\n",
        "\n",
        "##<font color=\"darkblue\">Gato</font>\n",
        "\n",
        "<img src=\"https://static.wikia.nocookie.net/silly-cat/images/3/39/Site-community-image/revision/latest?cb=20230715182629\" width=\"300\" height=\"300 \" border=\"10\">\n",
        "\n",
        "##<font color=\"Darkblue\">Canciones</font>\n",
        "\n",
        "* Enamorado tuyo\n",
        "    * *Artista principal: Cuarteto de nos*\n",
        "    * **Escritor: Santiago Tavella**\n",
        "* Bread\n",
        "    * *Artista principal: Anya Namy*\n",
        "    * **Escritor: Anna Zavgorodniaia**\n",
        "\n",
        "* Sharks\n",
        "    * *Artista principal: Imagin Dragons*\n",
        "    * **Compositor: Wayne Sermon**\n",
        "\n",
        "* El distractor\n",
        "    * *Artista principal: Esteman*\n",
        "    * **Esteban Mateus**\n",
        "\n",
        "* Hayloft II\n",
        "    * *Artista principal: Mother mother*\n",
        "    * **productor: Hodwar Redekopp**\n",
        "\n",
        "## <font color=\"Darkblue\"> Materias favoritas</font>\n",
        "|Materias favoritas  |¿Por qué?             |\n",
        "|--------------------|----------------------|\n",
        "|Química en la cocina|Porque siempre fui malo para la química y quizas este    sea  el momento para poder perdonar a la química.\n",
        "|Aplicadas\n",
        "\n"
      ],
      "metadata": {
        "id": "cqm_Q1NlnoLh"
      }
    }
  ]
}