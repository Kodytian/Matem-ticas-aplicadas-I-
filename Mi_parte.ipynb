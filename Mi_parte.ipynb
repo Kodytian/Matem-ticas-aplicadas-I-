{
  "nbformat": 4,
  "nbformat_minor": 0,
  "metadata": {
    "colab": {
      "provenance": [],
      "authorship_tag": "ABX9TyPwY2pCJEkQXdaLztW2nlXJ",
      "include_colab_link": true
    },
    "kernelspec": {
      "name": "python3",
      "display_name": "Python 3"
    },
    "language_info": {
      "name": "python"
    }
  },
  "cells": [
    {
      "cell_type": "markdown",
      "metadata": {
        "id": "view-in-github",
        "colab_type": "text"
      },
      "source": [
        "<a href=\"https://colab.research.google.com/github/Kodytian/Matem-ticas-aplicadas-I-/blob/main/Mi_parte.ipynb\" target=\"_parent\"><img src=\"https://colab.research.google.com/assets/colab-badge.svg\" alt=\"Open In Colab\"/></a>"
      ]
    },
    {
      "cell_type": "markdown",
      "source": [
        "#Punto 3#\n",
        "##3.2##"
      ],
      "metadata": {
        "id": "DadmX2QC7lLd"
      }
    },
    {
      "cell_type": "code",
      "source": [
        "\n",
        "asignaturas = [\"Álgebra y funciones\", \"Comunicación escrita I\", \"Lógica y argumentación\", \"Inglés\", \"Organizaciones\", \"Fundamentos de derechos constitucional\",  \"Introducción a ingeniería en sistemas\"]\n",
        "\n",
        "resultados = {}\n",
        "\n",
        "\n",
        "for asignatura in asignaturas:\n",
        "    nota = float(input(f\"Ingresa la nota obtenida en {asignatura}: \"))\n",
        "\n",
        "    if nota >= 4.0:\n",
        "        mensaje = \"Nivel superior\"\n",
        "    elif 3.5 <= nota < 4.0:\n",
        "        mensaje = \"Asignatura aprobada pero debe asistir a plan de mejoramiento, diríjase a CAMBAS.\"\n",
        "    else:\n",
        "        mensaje = \"Asignatura No aprobada. Debe repetirla el próximo semestre.\"\n",
        "\n",
        "    resultados[asignatura] = {\n",
        "        \"Nota\": nota,\n",
        "        \"Mensaje\": mensaje\n",
        "    }\n",
        "\n",
        "print(\"\\nResultados del semestre pasado:\\n\")\n",
        "for asignatura, info in resultados.items():\n",
        "    print(f\"Asignatura: {asignatura}\")\n",
        "    print(f\"Nota: {info['Nota']}\")\n",
        "    print(f\"Mensaje: {info['Mensaje']}\\n\")\n"
      ],
      "metadata": {
        "id": "BOC4pDHK7FQV"
      },
      "execution_count": null,
      "outputs": []
    },
    {
      "cell_type": "markdown",
      "source": [
        "##3.4##"
      ],
      "metadata": {
        "id": "0NhiVFvd7tFc"
      }
    },
    {
      "cell_type": "code",
      "source": [
        "ahorro_mensual = 5\n",
        "total_ahorrado = 0\n",
        "ahorro_anual = []\n",
        "\n",
        "for año in range(15):\n",
        "    ahorro_año = ahorro_mensual * 12\n",
        "    ahorro_anual.append(ahorro_año)\n",
        "    total_ahorrado += ahorro_año\n",
        "    ahorro_mensual += 10\n",
        "\n",
        "print(ahorro_anual)\n",
        "print(\"Total ahorrado:\", total_ahorrado)\n",
        "\n"
      ],
      "metadata": {
        "colab": {
          "base_uri": "https://localhost:8080/"
        },
        "id": "r4tXjE218U33",
        "outputId": "1624e19f-61ef-4438-cc01-1abe33605186"
      },
      "execution_count": 47,
      "outputs": [
        {
          "output_type": "stream",
          "name": "stdout",
          "text": [
            "[60, 180, 300, 420, 540, 660, 780, 900, 1020, 1140, 1260, 1380, 1500, 1620, 1740]\n",
            "Total ahorrado: 13500\n"
          ]
        }
      ]
    }
  ]
}